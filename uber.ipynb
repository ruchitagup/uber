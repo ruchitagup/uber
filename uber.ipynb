{
 "cells": [
  {
   "cell_type": "code",
   "execution_count": 1,
   "metadata": {},
   "outputs": [],
   "source": [
    "import numpy as np\n",
    "import pandas as pd \n",
    "import matplotlib.pyplot as plt\n",
    "import seaborn as sns\n",
    "\n",
    "# reading the data file\n",
    "df = pd.read_csv(\"./Uber Request Data.csv\")"
   ]
  },
  {
   "cell_type": "code",
   "execution_count": null,
   "metadata": {},
   "outputs": [],
   "source": []
  },
  {
   "cell_type": "code",
   "execution_count": 2,
   "metadata": {},
   "outputs": [
    {
     "name": "stdout",
     "output_type": "stream",
     "text": [
      "   Request id Pickup point  Driver id          Status    Request timestamp  \\\n",
      "0         619      Airport        1.0  Trip Completed      11/7/2016 11:51   \n",
      "1         867      Airport        1.0  Trip Completed      11/7/2016 17:57   \n",
      "2        1807         City        1.0  Trip Completed       12/7/2016 9:17   \n",
      "3        2532      Airport        1.0  Trip Completed      12/7/2016 21:08   \n",
      "4        3112         City        1.0  Trip Completed  13-07-2016 08:33:16   \n",
      "\n",
      "        Drop timestamp  \n",
      "0      11/7/2016 13:00  \n",
      "1      11/7/2016 18:47  \n",
      "2       12/7/2016 9:58  \n",
      "3      12/7/2016 22:03  \n",
      "4  13-07-2016 09:25:47  \n"
     ]
    }
   ],
   "source": [
    "# Look at df head\n",
    "print(df.head())"
   ]
  },
  {
   "cell_type": "code",
   "execution_count": 3,
   "metadata": {},
   "outputs": [
    {
     "name": "stdout",
     "output_type": "stream",
     "text": [
      "<class 'pandas.core.frame.DataFrame'>\n",
      "RangeIndex: 6745 entries, 0 to 6744\n",
      "Data columns (total 6 columns):\n",
      "Request id           6745 non-null int64\n",
      "Pickup point         6745 non-null object\n",
      "Driver id            4095 non-null float64\n",
      "Status               6745 non-null object\n",
      "Request timestamp    6745 non-null object\n",
      "Drop timestamp       2831 non-null object\n",
      "dtypes: float64(1), int64(1), object(4)\n",
      "memory usage: 316.2+ KB\n",
      "None \n",
      "\n",
      "(6745, 6)\n"
     ]
    }
   ],
   "source": [
    "# inspect the structure and size of the data\n",
    "print(df.info(), \"\\n\")\n",
    "print(df.shape)"
   ]
  },
  {
   "cell_type": "markdown",
   "metadata": {},
   "source": [
    "From the info and shape we know that that there are 6745 rows. And null values are present in Driver id and Drop timestamp. "
   ]
  },
  {
   "cell_type": "code",
   "execution_count": 4,
   "metadata": {},
   "outputs": [
    {
     "name": "stdout",
     "output_type": "stream",
     "text": [
      "['Airport' 'City']\n",
      "['Trip Completed' 'Cancelled' 'No Cars Available']\n"
     ]
    }
   ],
   "source": [
    "# look at unique Pickup point and status\n",
    "print(df['Pickup point'].unique())\n",
    "print(df['Status'].unique())"
   ]
  },
  {
   "cell_type": "markdown",
   "metadata": {},
   "source": [
    "This confirms that there are 2 unique values for Pickup point which is 'Airport' and 'City. Similarly 3 unique values for 'Status'. So no data issues are there in these 2 columns"
   ]
  },
  {
   "cell_type": "markdown",
   "metadata": {},
   "source": [
    "Now let us look at the missing values"
   ]
  },
  {
   "cell_type": "code",
   "execution_count": 5,
   "metadata": {},
   "outputs": [
    {
     "data": {
      "text/plain": [
       "Request id              0\n",
       "Pickup point            0\n",
       "Driver id            2650\n",
       "Status                  0\n",
       "Request timestamp       0\n",
       "Drop timestamp       3914\n",
       "dtype: int64"
      ]
     },
     "execution_count": 5,
     "metadata": {},
     "output_type": "execute_result"
    }
   ],
   "source": [
    "# column-wise missing values \n",
    "df.isnull().sum()"
   ]
  },
  {
   "cell_type": "code",
   "execution_count": 6,
   "metadata": {},
   "outputs": [
    {
     "data": {
      "text/plain": [
       "Request id            0.00\n",
       "Pickup point          0.00\n",
       "Driver id            39.29\n",
       "Status                0.00\n",
       "Request timestamp     0.00\n",
       "Drop timestamp       58.03\n",
       "dtype: float64"
      ]
     },
     "execution_count": 6,
     "metadata": {},
     "output_type": "execute_result"
    }
   ],
   "source": [
    "#Find out the fraction of missing values\n",
    "round(100*(df.isnull().sum()/len(df)), 2)"
   ]
  },
  {
   "cell_type": "code",
   "execution_count": 7,
   "metadata": {},
   "outputs": [
    {
     "name": "stdout",
     "output_type": "stream",
     "text": [
      "301\n"
     ]
    }
   ],
   "source": [
    "#Let us find out the no. of unique Driver ids\n",
    "print(len(df['Driver id'].unique()))"
   ]
  },
  {
   "cell_type": "code",
   "execution_count": 8,
   "metadata": {},
   "outputs": [
    {
     "name": "stdout",
     "output_type": "stream",
     "text": [
      "      Request id Pickup point  Driver id     Status    Request timestamp  \\\n",
      "2831        2905         City        1.0  Cancelled  13-07-2016 06:08:41   \n",
      "2832        4805         City        1.0  Cancelled  14-07-2016 17:07:58   \n",
      "2833        5202      Airport        1.0  Cancelled  14-07-2016 20:51:37   \n",
      "2834        5927         City        1.0  Cancelled  15-07-2016 10:12:40   \n",
      "2835        2347      Airport        2.0  Cancelled      12/7/2016 19:14   \n",
      "2836        3806      Airport        2.0  Cancelled  13-07-2016 20:57:49   \n",
      "2837        4451         City        2.0  Cancelled  14-07-2016 08:38:38   \n",
      "2838        5023      Airport        2.0  Cancelled  14-07-2016 19:04:08   \n",
      "2839          80         City        3.0  Cancelled       11/7/2016 4:47   \n",
      "2840         534         City        3.0  Cancelled      11/7/2016 10:01   \n",
      "\n",
      "     Drop timestamp  \n",
      "2831            NaN  \n",
      "2832            NaN  \n",
      "2833            NaN  \n",
      "2834            NaN  \n",
      "2835            NaN  \n",
      "2836            NaN  \n",
      "2837            NaN  \n",
      "2838            NaN  \n",
      "2839            NaN  \n",
      "2840            NaN  \n"
     ]
    }
   ],
   "source": [
    "#check for the rows where Drop time is null or Driver id is null\n",
    "df_drop_null=df.loc[pd.isnull(df[\"Drop timestamp\"]) | (pd.isnull(df[\"Driver id\"]))]\n",
    "print (df_drop_null.head(10))"
   ]
  },
  {
   "cell_type": "code",
   "execution_count": 9,
   "metadata": {},
   "outputs": [
    {
     "name": "stdout",
     "output_type": "stream",
     "text": [
      "      Request id Pickup point  Driver id             Status  \\\n",
      "6735        6737      Airport        NaN  No Cars Available   \n",
      "6736        6744      Airport        NaN  No Cars Available   \n",
      "6737        6740         City        NaN  No Cars Available   \n",
      "6738        6746         City        NaN  No Cars Available   \n",
      "6739        6739         City        NaN  No Cars Available   \n",
      "6740        6745         City        NaN  No Cars Available   \n",
      "6741        6752      Airport        NaN  No Cars Available   \n",
      "6742        6751         City        NaN  No Cars Available   \n",
      "6743        6754         City        NaN  No Cars Available   \n",
      "6744        6753      Airport        NaN  No Cars Available   \n",
      "\n",
      "        Request timestamp Drop timestamp  \n",
      "6735  15-07-2016 23:39:15            NaN  \n",
      "6736  15-07-2016 23:42:51            NaN  \n",
      "6737  15-07-2016 23:43:54            NaN  \n",
      "6738  15-07-2016 23:46:03            NaN  \n",
      "6739  15-07-2016 23:46:20            NaN  \n",
      "6740  15-07-2016 23:49:03            NaN  \n",
      "6741  15-07-2016 23:50:05            NaN  \n",
      "6742  15-07-2016 23:52:06            NaN  \n",
      "6743  15-07-2016 23:54:39            NaN  \n",
      "6744  15-07-2016 23:55:03            NaN  \n"
     ]
    }
   ],
   "source": [
    "print (df_drop_null.tail(10))"
   ]
  },
  {
   "cell_type": "markdown",
   "metadata": {},
   "source": [
    "Drop timestamp is Nan for the rides which were cancelled or when No cars were Available and Driver id is Nan when no cars were available. This is infact quite logical and justified. So we need not drop these rows. Because if we drop these rows, a lot of our data will be deleted and we will not be able to analyse the cases when the cars are not available or when the trip was cancelled.\n",
    "If we look at the timestamps, some dates are dd-mm-yyyy whereas some are dd/mm/yyyy. We need to convert them into DateTime format"
   ]
  },
  {
   "cell_type": "code",
   "execution_count": 10,
   "metadata": {},
   "outputs": [],
   "source": [
    "#Convert the timestamps to proper DateTime format with dayfirst as True as the first value is day and also\n",
    "#infer_datetime_format=True to allow the function to interpret the date format\n",
    "df['Request timestamp']=pd.to_datetime(df['Request timestamp'],infer_datetime_format=True, dayfirst=True)\n",
    "df['Drop timestamp']=pd.to_datetime(df['Drop timestamp'],infer_datetime_format=True, dayfirst=True)"
   ]
  },
  {
   "cell_type": "code",
   "execution_count": 11,
   "metadata": {},
   "outputs": [
    {
     "data": {
      "text/html": [
       "<div>\n",
       "<style scoped>\n",
       "    .dataframe tbody tr th:only-of-type {\n",
       "        vertical-align: middle;\n",
       "    }\n",
       "\n",
       "    .dataframe tbody tr th {\n",
       "        vertical-align: top;\n",
       "    }\n",
       "\n",
       "    .dataframe thead th {\n",
       "        text-align: right;\n",
       "    }\n",
       "</style>\n",
       "<table border=\"1\" class=\"dataframe\">\n",
       "  <thead>\n",
       "    <tr style=\"text-align: right;\">\n",
       "      <th></th>\n",
       "      <th>Request id</th>\n",
       "      <th>Pickup point</th>\n",
       "      <th>Driver id</th>\n",
       "      <th>Status</th>\n",
       "      <th>Request timestamp</th>\n",
       "      <th>Drop timestamp</th>\n",
       "    </tr>\n",
       "  </thead>\n",
       "  <tbody>\n",
       "    <tr>\n",
       "      <th>0</th>\n",
       "      <td>619</td>\n",
       "      <td>Airport</td>\n",
       "      <td>1.0</td>\n",
       "      <td>Trip Completed</td>\n",
       "      <td>2016-07-11 11:51:00</td>\n",
       "      <td>2016-07-11 13:00:00</td>\n",
       "    </tr>\n",
       "    <tr>\n",
       "      <th>1</th>\n",
       "      <td>867</td>\n",
       "      <td>Airport</td>\n",
       "      <td>1.0</td>\n",
       "      <td>Trip Completed</td>\n",
       "      <td>2016-07-11 17:57:00</td>\n",
       "      <td>2016-07-11 18:47:00</td>\n",
       "    </tr>\n",
       "    <tr>\n",
       "      <th>2</th>\n",
       "      <td>1807</td>\n",
       "      <td>City</td>\n",
       "      <td>1.0</td>\n",
       "      <td>Trip Completed</td>\n",
       "      <td>2016-07-12 09:17:00</td>\n",
       "      <td>2016-07-12 09:58:00</td>\n",
       "    </tr>\n",
       "    <tr>\n",
       "      <th>3</th>\n",
       "      <td>2532</td>\n",
       "      <td>Airport</td>\n",
       "      <td>1.0</td>\n",
       "      <td>Trip Completed</td>\n",
       "      <td>2016-07-12 21:08:00</td>\n",
       "      <td>2016-07-12 22:03:00</td>\n",
       "    </tr>\n",
       "    <tr>\n",
       "      <th>4</th>\n",
       "      <td>3112</td>\n",
       "      <td>City</td>\n",
       "      <td>1.0</td>\n",
       "      <td>Trip Completed</td>\n",
       "      <td>2016-07-13 08:33:16</td>\n",
       "      <td>2016-07-13 09:25:47</td>\n",
       "    </tr>\n",
       "  </tbody>\n",
       "</table>\n",
       "</div>"
      ],
      "text/plain": [
       "   Request id Pickup point  Driver id          Status   Request timestamp  \\\n",
       "0         619      Airport        1.0  Trip Completed 2016-07-11 11:51:00   \n",
       "1         867      Airport        1.0  Trip Completed 2016-07-11 17:57:00   \n",
       "2        1807         City        1.0  Trip Completed 2016-07-12 09:17:00   \n",
       "3        2532      Airport        1.0  Trip Completed 2016-07-12 21:08:00   \n",
       "4        3112         City        1.0  Trip Completed 2016-07-13 08:33:16   \n",
       "\n",
       "       Drop timestamp  \n",
       "0 2016-07-11 13:00:00  \n",
       "1 2016-07-11 18:47:00  \n",
       "2 2016-07-12 09:58:00  \n",
       "3 2016-07-12 22:03:00  \n",
       "4 2016-07-13 09:25:47  "
      ]
     },
     "execution_count": 11,
     "metadata": {},
     "output_type": "execute_result"
    }
   ],
   "source": [
    "df.head()"
   ]
  },
  {
   "cell_type": "markdown",
   "metadata": {},
   "source": [
    "Date Cleaning part is over. Now let us create plots to visualise the data better."
   ]
  },
  {
   "cell_type": "code",
   "execution_count": 12,
   "metadata": {},
   "outputs": [
    {
     "data": {
      "text/html": [
       "<div>\n",
       "<style scoped>\n",
       "    .dataframe tbody tr th:only-of-type {\n",
       "        vertical-align: middle;\n",
       "    }\n",
       "\n",
       "    .dataframe tbody tr th {\n",
       "        vertical-align: top;\n",
       "    }\n",
       "\n",
       "    .dataframe thead th {\n",
       "        text-align: right;\n",
       "    }\n",
       "</style>\n",
       "<table border=\"1\" class=\"dataframe\">\n",
       "  <thead>\n",
       "    <tr style=\"text-align: right;\">\n",
       "      <th></th>\n",
       "      <th>Request id</th>\n",
       "      <th>Pickup point</th>\n",
       "      <th>Driver id</th>\n",
       "      <th>Status</th>\n",
       "      <th>Request timestamp</th>\n",
       "      <th>Drop timestamp</th>\n",
       "      <th>Weekend</th>\n",
       "    </tr>\n",
       "  </thead>\n",
       "  <tbody>\n",
       "    <tr>\n",
       "      <th>0</th>\n",
       "      <td>619</td>\n",
       "      <td>Airport</td>\n",
       "      <td>1.0</td>\n",
       "      <td>Trip Completed</td>\n",
       "      <td>2016-07-11 11:51:00</td>\n",
       "      <td>2016-07-11 13:00:00</td>\n",
       "      <td>0</td>\n",
       "    </tr>\n",
       "    <tr>\n",
       "      <th>1</th>\n",
       "      <td>867</td>\n",
       "      <td>Airport</td>\n",
       "      <td>1.0</td>\n",
       "      <td>Trip Completed</td>\n",
       "      <td>2016-07-11 17:57:00</td>\n",
       "      <td>2016-07-11 18:47:00</td>\n",
       "      <td>0</td>\n",
       "    </tr>\n",
       "    <tr>\n",
       "      <th>2</th>\n",
       "      <td>1807</td>\n",
       "      <td>City</td>\n",
       "      <td>1.0</td>\n",
       "      <td>Trip Completed</td>\n",
       "      <td>2016-07-12 09:17:00</td>\n",
       "      <td>2016-07-12 09:58:00</td>\n",
       "      <td>0</td>\n",
       "    </tr>\n",
       "    <tr>\n",
       "      <th>3</th>\n",
       "      <td>2532</td>\n",
       "      <td>Airport</td>\n",
       "      <td>1.0</td>\n",
       "      <td>Trip Completed</td>\n",
       "      <td>2016-07-12 21:08:00</td>\n",
       "      <td>2016-07-12 22:03:00</td>\n",
       "      <td>0</td>\n",
       "    </tr>\n",
       "    <tr>\n",
       "      <th>4</th>\n",
       "      <td>3112</td>\n",
       "      <td>City</td>\n",
       "      <td>1.0</td>\n",
       "      <td>Trip Completed</td>\n",
       "      <td>2016-07-13 08:33:16</td>\n",
       "      <td>2016-07-13 09:25:47</td>\n",
       "      <td>0</td>\n",
       "    </tr>\n",
       "  </tbody>\n",
       "</table>\n",
       "</div>"
      ],
      "text/plain": [
       "   Request id Pickup point  Driver id          Status   Request timestamp  \\\n",
       "0         619      Airport        1.0  Trip Completed 2016-07-11 11:51:00   \n",
       "1         867      Airport        1.0  Trip Completed 2016-07-11 17:57:00   \n",
       "2        1807         City        1.0  Trip Completed 2016-07-12 09:17:00   \n",
       "3        2532      Airport        1.0  Trip Completed 2016-07-12 21:08:00   \n",
       "4        3112         City        1.0  Trip Completed 2016-07-13 08:33:16   \n",
       "\n",
       "       Drop timestamp  Weekend  \n",
       "0 2016-07-11 13:00:00        0  \n",
       "1 2016-07-11 18:47:00        0  \n",
       "2 2016-07-12 09:58:00        0  \n",
       "3 2016-07-12 22:03:00        0  \n",
       "4 2016-07-13 09:25:47        0  "
      ]
     },
     "execution_count": 12,
     "metadata": {},
     "output_type": "execute_result"
    }
   ],
   "source": [
    "#To Seperate the weekend and weekday traffic, add a column 'Weekend' whose value is 1 if it is a Sat or Sun else 0\n",
    "df['Weekend']=df['Request timestamp'].apply(lambda x : 1 if ((x.weekday==5) | (x.weekday==6)) else 0)\n",
    "df.head()"
   ]
  },
  {
   "cell_type": "code",
   "execution_count": 13,
   "metadata": {},
   "outputs": [
    {
     "data": {
      "text/plain": [
       "0"
      ]
     },
     "execution_count": 13,
     "metadata": {},
     "output_type": "execute_result"
    }
   ],
   "source": [
    "df['Weekend'].sum()"
   ]
  },
  {
   "cell_type": "markdown",
   "metadata": {},
   "source": [
    "All the requests are made on a weekday. So we can drop the column 'weekend'"
   ]
  },
  {
   "cell_type": "code",
   "execution_count": 14,
   "metadata": {},
   "outputs": [],
   "source": [
    "df=df.drop(['Weekend'], axis=1)"
   ]
  },
  {
   "cell_type": "markdown",
   "metadata": {},
   "source": [
    "Create 2 more Columns -\n",
    "1. 'ReqHr' which extracts the hour from the Request Timestamp\n",
    "2. TimeSlot - The day is divided into 6 timeslots and according to the Request Timestamp the TimeSlot is created"
   ]
  },
  {
   "cell_type": "code",
   "execution_count": 15,
   "metadata": {},
   "outputs": [],
   "source": [
    "df[\"ReqHr\"]= df['Request timestamp'].apply(lambda x : x.hour)\n",
    "df[\"Timeslot\"]=pd.cut(df.ReqHr,[0,4,8,12,16,20,24],labels=['Midnight', 'Early Morning','Morning','Afternoon','Evening','Night'], include_lowest=True)"
   ]
  },
  {
   "cell_type": "code",
   "execution_count": 16,
   "metadata": {},
   "outputs": [],
   "source": [
    "#calculate trip time\n",
    "df['TripTime']=df['Drop timestamp'] - df['Request timestamp']"
   ]
  },
  {
   "cell_type": "code",
   "execution_count": 17,
   "metadata": {},
   "outputs": [
    {
     "data": {
      "text/html": [
       "<div>\n",
       "<style scoped>\n",
       "    .dataframe tbody tr th:only-of-type {\n",
       "        vertical-align: middle;\n",
       "    }\n",
       "\n",
       "    .dataframe tbody tr th {\n",
       "        vertical-align: top;\n",
       "    }\n",
       "\n",
       "    .dataframe thead th {\n",
       "        text-align: right;\n",
       "    }\n",
       "</style>\n",
       "<table border=\"1\" class=\"dataframe\">\n",
       "  <thead>\n",
       "    <tr style=\"text-align: right;\">\n",
       "      <th></th>\n",
       "      <th>Request id</th>\n",
       "      <th>Pickup point</th>\n",
       "      <th>Driver id</th>\n",
       "      <th>Status</th>\n",
       "      <th>Request timestamp</th>\n",
       "      <th>Drop timestamp</th>\n",
       "      <th>ReqHr</th>\n",
       "      <th>Timeslot</th>\n",
       "      <th>TripTime</th>\n",
       "    </tr>\n",
       "  </thead>\n",
       "  <tbody>\n",
       "    <tr>\n",
       "      <th>0</th>\n",
       "      <td>619</td>\n",
       "      <td>Airport</td>\n",
       "      <td>1.0</td>\n",
       "      <td>Trip Completed</td>\n",
       "      <td>2016-07-11 11:51:00</td>\n",
       "      <td>2016-07-11 13:00:00</td>\n",
       "      <td>11</td>\n",
       "      <td>Morning</td>\n",
       "      <td>01:09:00</td>\n",
       "    </tr>\n",
       "    <tr>\n",
       "      <th>1</th>\n",
       "      <td>867</td>\n",
       "      <td>Airport</td>\n",
       "      <td>1.0</td>\n",
       "      <td>Trip Completed</td>\n",
       "      <td>2016-07-11 17:57:00</td>\n",
       "      <td>2016-07-11 18:47:00</td>\n",
       "      <td>17</td>\n",
       "      <td>Evening</td>\n",
       "      <td>00:50:00</td>\n",
       "    </tr>\n",
       "    <tr>\n",
       "      <th>2</th>\n",
       "      <td>1807</td>\n",
       "      <td>City</td>\n",
       "      <td>1.0</td>\n",
       "      <td>Trip Completed</td>\n",
       "      <td>2016-07-12 09:17:00</td>\n",
       "      <td>2016-07-12 09:58:00</td>\n",
       "      <td>9</td>\n",
       "      <td>Morning</td>\n",
       "      <td>00:41:00</td>\n",
       "    </tr>\n",
       "    <tr>\n",
       "      <th>3</th>\n",
       "      <td>2532</td>\n",
       "      <td>Airport</td>\n",
       "      <td>1.0</td>\n",
       "      <td>Trip Completed</td>\n",
       "      <td>2016-07-12 21:08:00</td>\n",
       "      <td>2016-07-12 22:03:00</td>\n",
       "      <td>21</td>\n",
       "      <td>Night</td>\n",
       "      <td>00:55:00</td>\n",
       "    </tr>\n",
       "    <tr>\n",
       "      <th>4</th>\n",
       "      <td>3112</td>\n",
       "      <td>City</td>\n",
       "      <td>1.0</td>\n",
       "      <td>Trip Completed</td>\n",
       "      <td>2016-07-13 08:33:16</td>\n",
       "      <td>2016-07-13 09:25:47</td>\n",
       "      <td>8</td>\n",
       "      <td>Early Morning</td>\n",
       "      <td>00:52:31</td>\n",
       "    </tr>\n",
       "    <tr>\n",
       "      <th>5</th>\n",
       "      <td>3879</td>\n",
       "      <td>Airport</td>\n",
       "      <td>1.0</td>\n",
       "      <td>Trip Completed</td>\n",
       "      <td>2016-07-13 21:57:28</td>\n",
       "      <td>2016-07-13 22:28:59</td>\n",
       "      <td>21</td>\n",
       "      <td>Night</td>\n",
       "      <td>00:31:31</td>\n",
       "    </tr>\n",
       "    <tr>\n",
       "      <th>6</th>\n",
       "      <td>4270</td>\n",
       "      <td>Airport</td>\n",
       "      <td>1.0</td>\n",
       "      <td>Trip Completed</td>\n",
       "      <td>2016-07-14 06:15:32</td>\n",
       "      <td>2016-07-14 07:13:15</td>\n",
       "      <td>6</td>\n",
       "      <td>Early Morning</td>\n",
       "      <td>00:57:43</td>\n",
       "    </tr>\n",
       "    <tr>\n",
       "      <th>7</th>\n",
       "      <td>5510</td>\n",
       "      <td>Airport</td>\n",
       "      <td>1.0</td>\n",
       "      <td>Trip Completed</td>\n",
       "      <td>2016-07-15 05:11:52</td>\n",
       "      <td>2016-07-15 06:07:52</td>\n",
       "      <td>5</td>\n",
       "      <td>Early Morning</td>\n",
       "      <td>00:56:00</td>\n",
       "    </tr>\n",
       "    <tr>\n",
       "      <th>8</th>\n",
       "      <td>6248</td>\n",
       "      <td>City</td>\n",
       "      <td>1.0</td>\n",
       "      <td>Trip Completed</td>\n",
       "      <td>2016-07-15 17:57:27</td>\n",
       "      <td>2016-07-15 18:50:51</td>\n",
       "      <td>17</td>\n",
       "      <td>Evening</td>\n",
       "      <td>00:53:24</td>\n",
       "    </tr>\n",
       "    <tr>\n",
       "      <th>9</th>\n",
       "      <td>267</td>\n",
       "      <td>City</td>\n",
       "      <td>2.0</td>\n",
       "      <td>Trip Completed</td>\n",
       "      <td>2016-07-11 06:46:00</td>\n",
       "      <td>2016-07-11 07:25:00</td>\n",
       "      <td>6</td>\n",
       "      <td>Early Morning</td>\n",
       "      <td>00:39:00</td>\n",
       "    </tr>\n",
       "  </tbody>\n",
       "</table>\n",
       "</div>"
      ],
      "text/plain": [
       "   Request id Pickup point  Driver id          Status   Request timestamp  \\\n",
       "0         619      Airport        1.0  Trip Completed 2016-07-11 11:51:00   \n",
       "1         867      Airport        1.0  Trip Completed 2016-07-11 17:57:00   \n",
       "2        1807         City        1.0  Trip Completed 2016-07-12 09:17:00   \n",
       "3        2532      Airport        1.0  Trip Completed 2016-07-12 21:08:00   \n",
       "4        3112         City        1.0  Trip Completed 2016-07-13 08:33:16   \n",
       "5        3879      Airport        1.0  Trip Completed 2016-07-13 21:57:28   \n",
       "6        4270      Airport        1.0  Trip Completed 2016-07-14 06:15:32   \n",
       "7        5510      Airport        1.0  Trip Completed 2016-07-15 05:11:52   \n",
       "8        6248         City        1.0  Trip Completed 2016-07-15 17:57:27   \n",
       "9         267         City        2.0  Trip Completed 2016-07-11 06:46:00   \n",
       "\n",
       "       Drop timestamp  ReqHr       Timeslot TripTime  \n",
       "0 2016-07-11 13:00:00     11        Morning 01:09:00  \n",
       "1 2016-07-11 18:47:00     17        Evening 00:50:00  \n",
       "2 2016-07-12 09:58:00      9        Morning 00:41:00  \n",
       "3 2016-07-12 22:03:00     21          Night 00:55:00  \n",
       "4 2016-07-13 09:25:47      8  Early Morning 00:52:31  \n",
       "5 2016-07-13 22:28:59     21          Night 00:31:31  \n",
       "6 2016-07-14 07:13:15      6  Early Morning 00:57:43  \n",
       "7 2016-07-15 06:07:52      5  Early Morning 00:56:00  \n",
       "8 2016-07-15 18:50:51     17        Evening 00:53:24  \n",
       "9 2016-07-11 07:25:00      6  Early Morning 00:39:00  "
      ]
     },
     "execution_count": 17,
     "metadata": {},
     "output_type": "execute_result"
    }
   ],
   "source": [
    "df.head(10)"
   ]
  },
  {
   "cell_type": "markdown",
   "metadata": {},
   "source": [
    "Split the Dataframe into 2 Dfs according to the Pickup point. Whether it is City or Airport"
   ]
  },
  {
   "cell_type": "code",
   "execution_count": 18,
   "metadata": {},
   "outputs": [],
   "source": [
    "df_city=df.loc[df['Pickup point'] == \"City\"]\n",
    "df_airport=df.loc[df['Pickup point'] == \"Airport\"]"
   ]
  },
  {
   "cell_type": "code",
   "execution_count": 19,
   "metadata": {},
   "outputs": [
    {
     "data": {
      "text/html": [
       "<div>\n",
       "<style scoped>\n",
       "    .dataframe tbody tr th:only-of-type {\n",
       "        vertical-align: middle;\n",
       "    }\n",
       "\n",
       "    .dataframe tbody tr th {\n",
       "        vertical-align: top;\n",
       "    }\n",
       "\n",
       "    .dataframe thead th {\n",
       "        text-align: right;\n",
       "    }\n",
       "</style>\n",
       "<table border=\"1\" class=\"dataframe\">\n",
       "  <thead>\n",
       "    <tr style=\"text-align: right;\">\n",
       "      <th></th>\n",
       "      <th>Request id</th>\n",
       "      <th>Pickup point</th>\n",
       "      <th>Driver id</th>\n",
       "      <th>Status</th>\n",
       "      <th>Request timestamp</th>\n",
       "      <th>Drop timestamp</th>\n",
       "      <th>ReqHr</th>\n",
       "      <th>Timeslot</th>\n",
       "      <th>TripTime</th>\n",
       "    </tr>\n",
       "  </thead>\n",
       "  <tbody>\n",
       "    <tr>\n",
       "      <th>2</th>\n",
       "      <td>1807</td>\n",
       "      <td>City</td>\n",
       "      <td>1.0</td>\n",
       "      <td>Trip Completed</td>\n",
       "      <td>2016-07-12 09:17:00</td>\n",
       "      <td>2016-07-12 09:58:00</td>\n",
       "      <td>9</td>\n",
       "      <td>Morning</td>\n",
       "      <td>00:41:00</td>\n",
       "    </tr>\n",
       "    <tr>\n",
       "      <th>4</th>\n",
       "      <td>3112</td>\n",
       "      <td>City</td>\n",
       "      <td>1.0</td>\n",
       "      <td>Trip Completed</td>\n",
       "      <td>2016-07-13 08:33:16</td>\n",
       "      <td>2016-07-13 09:25:47</td>\n",
       "      <td>8</td>\n",
       "      <td>Early Morning</td>\n",
       "      <td>00:52:31</td>\n",
       "    </tr>\n",
       "    <tr>\n",
       "      <th>8</th>\n",
       "      <td>6248</td>\n",
       "      <td>City</td>\n",
       "      <td>1.0</td>\n",
       "      <td>Trip Completed</td>\n",
       "      <td>2016-07-15 17:57:27</td>\n",
       "      <td>2016-07-15 18:50:51</td>\n",
       "      <td>17</td>\n",
       "      <td>Evening</td>\n",
       "      <td>00:53:24</td>\n",
       "    </tr>\n",
       "    <tr>\n",
       "      <th>9</th>\n",
       "      <td>267</td>\n",
       "      <td>City</td>\n",
       "      <td>2.0</td>\n",
       "      <td>Trip Completed</td>\n",
       "      <td>2016-07-11 06:46:00</td>\n",
       "      <td>2016-07-11 07:25:00</td>\n",
       "      <td>6</td>\n",
       "      <td>Early Morning</td>\n",
       "      <td>00:39:00</td>\n",
       "    </tr>\n",
       "    <tr>\n",
       "      <th>11</th>\n",
       "      <td>1983</td>\n",
       "      <td>City</td>\n",
       "      <td>2.0</td>\n",
       "      <td>Trip Completed</td>\n",
       "      <td>2016-07-12 12:30:00</td>\n",
       "      <td>2016-07-12 12:57:00</td>\n",
       "      <td>12</td>\n",
       "      <td>Morning</td>\n",
       "      <td>00:27:00</td>\n",
       "    </tr>\n",
       "  </tbody>\n",
       "</table>\n",
       "</div>"
      ],
      "text/plain": [
       "    Request id Pickup point  Driver id          Status   Request timestamp  \\\n",
       "2         1807         City        1.0  Trip Completed 2016-07-12 09:17:00   \n",
       "4         3112         City        1.0  Trip Completed 2016-07-13 08:33:16   \n",
       "8         6248         City        1.0  Trip Completed 2016-07-15 17:57:27   \n",
       "9          267         City        2.0  Trip Completed 2016-07-11 06:46:00   \n",
       "11        1983         City        2.0  Trip Completed 2016-07-12 12:30:00   \n",
       "\n",
       "        Drop timestamp  ReqHr       Timeslot TripTime  \n",
       "2  2016-07-12 09:58:00      9        Morning 00:41:00  \n",
       "4  2016-07-13 09:25:47      8  Early Morning 00:52:31  \n",
       "8  2016-07-15 18:50:51     17        Evening 00:53:24  \n",
       "9  2016-07-11 07:25:00      6  Early Morning 00:39:00  \n",
       "11 2016-07-12 12:57:00     12        Morning 00:27:00  "
      ]
     },
     "execution_count": 19,
     "metadata": {},
     "output_type": "execute_result"
    }
   ],
   "source": [
    "df_city.head()"
   ]
  },
  {
   "cell_type": "code",
   "execution_count": 20,
   "metadata": {},
   "outputs": [
    {
     "data": {
      "text/html": [
       "<div>\n",
       "<style scoped>\n",
       "    .dataframe tbody tr th:only-of-type {\n",
       "        vertical-align: middle;\n",
       "    }\n",
       "\n",
       "    .dataframe tbody tr th {\n",
       "        vertical-align: top;\n",
       "    }\n",
       "\n",
       "    .dataframe thead th {\n",
       "        text-align: right;\n",
       "    }\n",
       "</style>\n",
       "<table border=\"1\" class=\"dataframe\">\n",
       "  <thead>\n",
       "    <tr style=\"text-align: right;\">\n",
       "      <th></th>\n",
       "      <th>Request id</th>\n",
       "      <th>Pickup point</th>\n",
       "      <th>Driver id</th>\n",
       "      <th>Status</th>\n",
       "      <th>Request timestamp</th>\n",
       "      <th>Drop timestamp</th>\n",
       "      <th>ReqHr</th>\n",
       "      <th>Timeslot</th>\n",
       "      <th>TripTime</th>\n",
       "    </tr>\n",
       "  </thead>\n",
       "  <tbody>\n",
       "    <tr>\n",
       "      <th>0</th>\n",
       "      <td>619</td>\n",
       "      <td>Airport</td>\n",
       "      <td>1.0</td>\n",
       "      <td>Trip Completed</td>\n",
       "      <td>2016-07-11 11:51:00</td>\n",
       "      <td>2016-07-11 13:00:00</td>\n",
       "      <td>11</td>\n",
       "      <td>Morning</td>\n",
       "      <td>01:09:00</td>\n",
       "    </tr>\n",
       "    <tr>\n",
       "      <th>1</th>\n",
       "      <td>867</td>\n",
       "      <td>Airport</td>\n",
       "      <td>1.0</td>\n",
       "      <td>Trip Completed</td>\n",
       "      <td>2016-07-11 17:57:00</td>\n",
       "      <td>2016-07-11 18:47:00</td>\n",
       "      <td>17</td>\n",
       "      <td>Evening</td>\n",
       "      <td>00:50:00</td>\n",
       "    </tr>\n",
       "    <tr>\n",
       "      <th>3</th>\n",
       "      <td>2532</td>\n",
       "      <td>Airport</td>\n",
       "      <td>1.0</td>\n",
       "      <td>Trip Completed</td>\n",
       "      <td>2016-07-12 21:08:00</td>\n",
       "      <td>2016-07-12 22:03:00</td>\n",
       "      <td>21</td>\n",
       "      <td>Night</td>\n",
       "      <td>00:55:00</td>\n",
       "    </tr>\n",
       "    <tr>\n",
       "      <th>5</th>\n",
       "      <td>3879</td>\n",
       "      <td>Airport</td>\n",
       "      <td>1.0</td>\n",
       "      <td>Trip Completed</td>\n",
       "      <td>2016-07-13 21:57:28</td>\n",
       "      <td>2016-07-13 22:28:59</td>\n",
       "      <td>21</td>\n",
       "      <td>Night</td>\n",
       "      <td>00:31:31</td>\n",
       "    </tr>\n",
       "    <tr>\n",
       "      <th>6</th>\n",
       "      <td>4270</td>\n",
       "      <td>Airport</td>\n",
       "      <td>1.0</td>\n",
       "      <td>Trip Completed</td>\n",
       "      <td>2016-07-14 06:15:32</td>\n",
       "      <td>2016-07-14 07:13:15</td>\n",
       "      <td>6</td>\n",
       "      <td>Early Morning</td>\n",
       "      <td>00:57:43</td>\n",
       "    </tr>\n",
       "  </tbody>\n",
       "</table>\n",
       "</div>"
      ],
      "text/plain": [
       "   Request id Pickup point  Driver id          Status   Request timestamp  \\\n",
       "0         619      Airport        1.0  Trip Completed 2016-07-11 11:51:00   \n",
       "1         867      Airport        1.0  Trip Completed 2016-07-11 17:57:00   \n",
       "3        2532      Airport        1.0  Trip Completed 2016-07-12 21:08:00   \n",
       "5        3879      Airport        1.0  Trip Completed 2016-07-13 21:57:28   \n",
       "6        4270      Airport        1.0  Trip Completed 2016-07-14 06:15:32   \n",
       "\n",
       "       Drop timestamp  ReqHr       Timeslot TripTime  \n",
       "0 2016-07-11 13:00:00     11        Morning 01:09:00  \n",
       "1 2016-07-11 18:47:00     17        Evening 00:50:00  \n",
       "3 2016-07-12 22:03:00     21          Night 00:55:00  \n",
       "5 2016-07-13 22:28:59     21          Night 00:31:31  \n",
       "6 2016-07-14 07:13:15      6  Early Morning 00:57:43  "
      ]
     },
     "execution_count": 20,
     "metadata": {},
     "output_type": "execute_result"
    }
   ],
   "source": [
    "df_airport.head()"
   ]
  },
  {
   "cell_type": "markdown",
   "metadata": {},
   "source": [
    "Create a plot to show the count of various 'Status' on the basis of hours i.e the Count of 'Cancelled', 'No Cars available' and 'Trip Completed'"
   ]
  },
  {
   "cell_type": "code",
   "execution_count": 21,
   "metadata": {},
   "outputs": [
    {
     "data": {
      "image/png": "[encoded data removed]",
      "text/plain": [
       "<Figure size 1440x720 with 1 Axes>"
      ]
     },
     "metadata": {
      "needs_background": "light"
     },
     "output_type": "display_data"
    }
   ],
   "source": [
    "fig, ax = plt.subplots(figsize=(20,10))\n",
    "plt.ylabel(\"Count\")\n",
    "plt.title(\"Frequency distribution of all the Uber Bookings\")\n",
    "df.groupby(['ReqHr','Status']).count()['Request id'].unstack().plot(ax=ax)\n",
    "plt.xticks(np.arange(0, 24, step=1))\n",
    "plt.show()"
   ]
  },
  {
   "cell_type": "markdown",
   "metadata": {},
   "source": [
    "Create two plots to show the Count of each status for 'city to Airport' and 'Airport to city' seperately for each hour. Also create another column 'Total' which stores the total requests."
   ]
  },
  {
   "cell_type": "code",
   "execution_count": 22,
   "metadata": {},
   "outputs": [
    {
     "data": {
      "image/png": "[encoded data removed]",
      "text/plain": [
       "<Figure size 1440x720 with 2 Axes>"
      ]
     },
     "metadata": {
      "needs_background": "light"
     },
     "output_type": "display_data"
    }
   ],
   "source": [
    "fig, (ax1, ax2) = plt.subplots(nrows=1, ncols=2, figsize=(20,10))\n",
    "plt.sca(ax1)\n",
    "plt.title(\"For City to Airport\")\n",
    "plt.ylabel(\"Count\")\n",
    "\n",
    "#Create a dataframe containing the hr wise count of all the three Status. unstack() creates the column names\n",
    "#as 'Cancelled', 'No cars available','Trips completed'\n",
    "df_city1=df_city.groupby(['ReqHr','Status']).count()['Request id'].unstack()\n",
    "\n",
    "#If any of the Status not present, the value is taken as Nan. So replace all the Nan values with 0 to calculate the\n",
    "#total count correctly\n",
    "df_city1=df_city1.fillna(0)\n",
    "\n",
    "#Add another column 'Total' which stores the total Requests\n",
    "df_city1['Total']=df_city1['Cancelled']+df_city1['No Cars Available']+df_city1['Trip Completed']\n",
    "df_city1.plot(ax=ax1)\n",
    "plt.xticks(np.arange(0, 24, step=1))\n",
    "\n",
    "#similarly do the same as above for traffic from airport to city\n",
    "plt.sca(ax2)\n",
    "plt.title(\"For Airport to city\")\n",
    "plt.ylabel(\"Count\")\n",
    "df_airport1=df_airport.groupby(['ReqHr','Status']).count()['Request id'].unstack()\n",
    "df_airport1=df_airport1.fillna(0)\n",
    "df_airport1['Total']=df_airport1['Cancelled']+df_airport1['No Cars Available']+df_airport1['Trip Completed']\n",
    "df_airport1.plot(ax=ax2)\n",
    "plt.xticks(np.arange(0, 24, step=1))\n",
    "plt.show()"
   ]
  },
  {
   "cell_type": "markdown",
   "metadata": {},
   "source": [
    "Do the same as above for plotting the counts of status on the basis of TimeSlots."
   ]
  },
  {
   "cell_type": "code",
   "execution_count": 26,
   "metadata": {},
   "outputs": [
    {
     "data": {
      "text/html": [
       "<div>\n",
       "<style scoped>\n",
       "    .dataframe tbody tr th:only-of-type {\n",
       "        vertical-align: middle;\n",
       "    }\n",
       "\n",
       "    .dataframe tbody tr th {\n",
       "        vertical-align: top;\n",
       "    }\n",
       "\n",
       "    .dataframe thead th {\n",
       "        text-align: right;\n",
       "    }\n",
       "</style>\n",
       "<table border=\"1\" class=\"dataframe\">\n",
       "  <thead>\n",
       "    <tr style=\"text-align: right;\">\n",
       "      <th></th>\n",
       "      <th></th>\n",
       "      <th>Request id</th>\n",
       "      <th>Pickup point</th>\n",
       "      <th>Driver id</th>\n",
       "      <th>Request timestamp</th>\n",
       "      <th>Drop timestamp</th>\n",
       "      <th>ReqHr</th>\n",
       "      <th>TripTime</th>\n",
       "    </tr>\n",
       "    <tr>\n",
       "      <th>Timeslot</th>\n",
       "      <th>Status</th>\n",
       "      <th></th>\n",
       "      <th></th>\n",
       "      <th></th>\n",
       "      <th></th>\n",
       "      <th></th>\n",
       "      <th></th>\n",
       "      <th></th>\n",
       "    </tr>\n",
       "  </thead>\n",
       "  <tbody>\n",
       "    <tr>\n",
       "      <th rowspan=\"3\" valign=\"top\">Midnight</th>\n",
       "      <th>Cancelled</th>\n",
       "      <td>63</td>\n",
       "      <td>63</td>\n",
       "      <td>63</td>\n",
       "      <td>63</td>\n",
       "      <td>0</td>\n",
       "      <td>63</td>\n",
       "      <td>0</td>\n",
       "    </tr>\n",
       "    <tr>\n",
       "      <th>No Cars Available</th>\n",
       "      <td>151</td>\n",
       "      <td>151</td>\n",
       "      <td>0</td>\n",
       "      <td>151</td>\n",
       "      <td>0</td>\n",
       "      <td>151</td>\n",
       "      <td>0</td>\n",
       "    </tr>\n",
       "    <tr>\n",
       "      <th>Trip Completed</th>\n",
       "      <td>111</td>\n",
       "      <td>111</td>\n",
       "      <td>111</td>\n",
       "      <td>111</td>\n",
       "      <td>111</td>\n",
       "      <td>111</td>\n",
       "      <td>111</td>\n",
       "    </tr>\n",
       "    <tr>\n",
       "      <th rowspan=\"3\" valign=\"top\">Early Morning</th>\n",
       "      <th>Cancelled</th>\n",
       "      <td>653</td>\n",
       "      <td>653</td>\n",
       "      <td>653</td>\n",
       "      <td>653</td>\n",
       "      <td>0</td>\n",
       "      <td>653</td>\n",
       "      <td>0</td>\n",
       "    </tr>\n",
       "    <tr>\n",
       "      <th>No Cars Available</th>\n",
       "      <td>309</td>\n",
       "      <td>309</td>\n",
       "      <td>0</td>\n",
       "      <td>309</td>\n",
       "      <td>0</td>\n",
       "      <td>309</td>\n",
       "      <td>0</td>\n",
       "    </tr>\n",
       "    <tr>\n",
       "      <th>Trip Completed</th>\n",
       "      <td>373</td>\n",
       "      <td>373</td>\n",
       "      <td>373</td>\n",
       "      <td>373</td>\n",
       "      <td>373</td>\n",
       "      <td>373</td>\n",
       "      <td>373</td>\n",
       "    </tr>\n",
       "    <tr>\n",
       "      <th rowspan=\"3\" valign=\"top\">Morning</th>\n",
       "      <th>Cancelled</th>\n",
       "      <td>239</td>\n",
       "      <td>239</td>\n",
       "      <td>239</td>\n",
       "      <td>239</td>\n",
       "      <td>0</td>\n",
       "      <td>239</td>\n",
       "      <td>0</td>\n",
       "    </tr>\n",
       "    <tr>\n",
       "      <th>No Cars Available</th>\n",
       "      <td>189</td>\n",
       "      <td>189</td>\n",
       "      <td>0</td>\n",
       "      <td>189</td>\n",
       "      <td>0</td>\n",
       "      <td>189</td>\n",
       "      <td>0</td>\n",
       "    </tr>\n",
       "    <tr>\n",
       "      <th>Trip Completed</th>\n",
       "      <td>286</td>\n",
       "      <td>286</td>\n",
       "      <td>286</td>\n",
       "      <td>286</td>\n",
       "      <td>286</td>\n",
       "      <td>286</td>\n",
       "      <td>286</td>\n",
       "    </tr>\n",
       "    <tr>\n",
       "      <th rowspan=\"3\" valign=\"top\">Afternoon</th>\n",
       "      <th>Cancelled</th>\n",
       "      <td>32</td>\n",
       "      <td>32</td>\n",
       "      <td>32</td>\n",
       "      <td>32</td>\n",
       "      <td>0</td>\n",
       "      <td>32</td>\n",
       "      <td>0</td>\n",
       "    </tr>\n",
       "    <tr>\n",
       "      <th>No Cars Available</th>\n",
       "      <td>134</td>\n",
       "      <td>134</td>\n",
       "      <td>0</td>\n",
       "      <td>134</td>\n",
       "      <td>0</td>\n",
       "      <td>134</td>\n",
       "      <td>0</td>\n",
       "    </tr>\n",
       "    <tr>\n",
       "      <th>Trip Completed</th>\n",
       "      <td>208</td>\n",
       "      <td>208</td>\n",
       "      <td>208</td>\n",
       "      <td>208</td>\n",
       "      <td>208</td>\n",
       "      <td>208</td>\n",
       "      <td>208</td>\n",
       "    </tr>\n",
       "    <tr>\n",
       "      <th rowspan=\"3\" valign=\"top\">Evening</th>\n",
       "      <th>Cancelled</th>\n",
       "      <td>46</td>\n",
       "      <td>46</td>\n",
       "      <td>46</td>\n",
       "      <td>46</td>\n",
       "      <td>0</td>\n",
       "      <td>46</td>\n",
       "      <td>0</td>\n",
       "    </tr>\n",
       "    <tr>\n",
       "      <th>No Cars Available</th>\n",
       "      <td>60</td>\n",
       "      <td>60</td>\n",
       "      <td>0</td>\n",
       "      <td>60</td>\n",
       "      <td>0</td>\n",
       "      <td>60</td>\n",
       "      <td>0</td>\n",
       "    </tr>\n",
       "    <tr>\n",
       "      <th>Trip Completed</th>\n",
       "      <td>330</td>\n",
       "      <td>330</td>\n",
       "      <td>330</td>\n",
       "      <td>330</td>\n",
       "      <td>330</td>\n",
       "      <td>330</td>\n",
       "      <td>330</td>\n",
       "    </tr>\n",
       "    <tr>\n",
       "      <th rowspan=\"3\" valign=\"top\">Night</th>\n",
       "      <th>Cancelled</th>\n",
       "      <td>33</td>\n",
       "      <td>33</td>\n",
       "      <td>33</td>\n",
       "      <td>33</td>\n",
       "      <td>0</td>\n",
       "      <td>33</td>\n",
       "      <td>0</td>\n",
       "    </tr>\n",
       "    <tr>\n",
       "      <th>No Cars Available</th>\n",
       "      <td>94</td>\n",
       "      <td>94</td>\n",
       "      <td>0</td>\n",
       "      <td>94</td>\n",
       "      <td>0</td>\n",
       "      <td>94</td>\n",
       "      <td>0</td>\n",
       "    </tr>\n",
       "    <tr>\n",
       "      <th>Trip Completed</th>\n",
       "      <td>196</td>\n",
       "      <td>196</td>\n",
       "      <td>196</td>\n",
       "      <td>196</td>\n",
       "      <td>196</td>\n",
       "      <td>196</td>\n",
       "      <td>196</td>\n",
       "    </tr>\n",
       "  </tbody>\n",
       "</table>\n",
       "</div>"
      ],
      "text/plain": [
       "                                 Request id  Pickup point  Driver id  \\\n",
       "Timeslot      Status                                                   \n",
       "Midnight      Cancelled                  63            63         63   \n",
       "              No Cars Available         151           151          0   \n",
       "              Trip Completed            111           111        111   \n",
       "Early Morning Cancelled                 653           653        653   \n",
       "              No Cars Available         309           309          0   \n",
       "              Trip Completed            373           373        373   \n",
       "Morning       Cancelled                 239           239        239   \n",
       "              No Cars Available         189           189          0   \n",
       "              Trip Completed            286           286        286   \n",
       "Afternoon     Cancelled                  32            32         32   \n",
       "              No Cars Available         134           134          0   \n",
       "              Trip Completed            208           208        208   \n",
       "Evening       Cancelled                  46            46         46   \n",
       "              No Cars Available          60            60          0   \n",
       "              Trip Completed            330           330        330   \n",
       "Night         Cancelled                  33            33         33   \n",
       "              No Cars Available          94            94          0   \n",
       "              Trip Completed            196           196        196   \n",
       "\n",
       "                                 Request timestamp  Drop timestamp  ReqHr  \\\n",
       "Timeslot      Status                                                        \n",
       "Midnight      Cancelled                         63               0     63   \n",
       "              No Cars Available                151               0    151   \n",
       "              Trip Completed                   111             111    111   \n",
       "Early Morning Cancelled                        653               0    653   \n",
       "              No Cars Available                309               0    309   \n",
       "              Trip Completed                   373             373    373   \n",
       "Morning       Cancelled                        239               0    239   \n",
       "              No Cars Available                189               0    189   \n",
       "              Trip Completed                   286             286    286   \n",
       "Afternoon     Cancelled                         32               0     32   \n",
       "              No Cars Available                134               0    134   \n",
       "              Trip Completed                   208             208    208   \n",
       "Evening       Cancelled                         46               0     46   \n",
       "              No Cars Available                 60               0     60   \n",
       "              Trip Completed                   330             330    330   \n",
       "Night         Cancelled                         33               0     33   \n",
       "              No Cars Available                 94               0     94   \n",
       "              Trip Completed                   196             196    196   \n",
       "\n",
       "                                 TripTime  \n",
       "Timeslot      Status                       \n",
       "Midnight      Cancelled                 0  \n",
       "              No Cars Available         0  \n",
       "              Trip Completed          111  \n",
       "Early Morning Cancelled                 0  \n",
       "              No Cars Available         0  \n",
       "              Trip Completed          373  \n",
       "Morning       Cancelled                 0  \n",
       "              No Cars Available         0  \n",
       "              Trip Completed          286  \n",
       "Afternoon     Cancelled                 0  \n",
       "              No Cars Available         0  \n",
       "              Trip Completed          208  \n",
       "Evening       Cancelled                 0  \n",
       "              No Cars Available         0  \n",
       "              Trip Completed          330  \n",
       "Night         Cancelled                 0  \n",
       "              No Cars Available         0  \n",
       "              Trip Completed          196  "
      ]
     },
     "execution_count": 26,
     "metadata": {},
     "output_type": "execute_result"
    }
   ],
   "source": [
    "df_city.groupby(['Timeslot','Status']).count()\n",
    "#df_city1.head()"
   ]
  },
  {
   "cell_type": "code",
   "execution_count": 23,
   "metadata": {},
   "outputs": [
    {
     "data": {
      "image/png": "[encoded data removed]",
      "text/plain": [
       "<Figure size 1440x720 with 2 Axes>"
      ]
     },
     "metadata": {
      "needs_background": "light"
     },
     "output_type": "display_data"
    }
   ],
   "source": [
    "\n",
    "fig, (ax1, ax2) = plt.subplots(nrows=1, ncols=2, figsize=(20,10))\n",
    "plt.sca(ax1)\n",
    "plt.title(\"For City to Airport\")\n",
    "plt.ylabel(\"Count\")\n",
    "df_city1=df_city.groupby(['Timeslot','Status']).count()['Request id'].unstack()\n",
    "df_city1=df_city1.fillna(0)\n",
    "df_city1['Total']=df_city1['Cancelled']+df_city1['No Cars Available']+df_city1['Trip Completed']\n",
    "df_city1.plot(ax=ax1, kind='bar')\n",
    "plt.sca(ax2)\n",
    "plt.title(\"For Airport to city\")\n",
    "plt.ylabel(\"Count\")\n",
    "df_airport1=df_airport.groupby(['Timeslot','Status']).count()['Request id'].unstack()\n",
    "df_airport1=df_airport1.fillna(0)\n",
    "df_airport1['Total']=df_airport1['Cancelled']+df_airport1['No Cars Available']+df_airport1['Trip Completed']\n",
    "df_airport1.plot(ax=ax2, kind='bar')\n",
    "plt.show()"
   ]
  },
  {
   "cell_type": "markdown",
   "metadata": {},
   "source": [
    "In the plot from city to Airport, we can see that in the interval from 5am -9am, or Early Morning there are more cancellations.\n",
    "Whereas in the plot from Airport to City, in the interval of 5pm -9pm or Evening there are more cases of 'No cars available' which means the inflow of cars to the airport (from 5pm-9pm) is low as compared to the demand."
   ]
  },
  {
   "cell_type": "markdown",
   "metadata": {},
   "source": [
    "Let us plot the percentage of completed trips to Request ratio"
   ]
  },
  {
   "cell_type": "code",
   "execution_count": 24,
   "metadata": {},
   "outputs": [
    {
     "name": "stdout",
     "output_type": "stream",
     "text": [
      "Status         Cancelled  No Cars Available  Trip Completed  Total\n",
      "Timeslot                                                          \n",
      "Midnight              63                151             111    325\n",
      "Early Morning        653                309             373   1335\n",
      "Morning              239                189             286    714\n",
      "Afternoon             32                134             208    374\n",
      "Evening               46                 60             330    436\n"
     ]
    }
   ],
   "source": [
    "print(df_city1.head())"
   ]
  },
  {
   "cell_type": "code",
   "execution_count": 25,
   "metadata": {},
   "outputs": [
    {
     "data": {
      "image/png": "[encoded data removed]",
      "text/plain": [
       "<Figure size 1440x720 with 2 Axes>"
      ]
     },
     "metadata": {
      "needs_background": "light"
     },
     "output_type": "display_data"
    }
   ],
   "source": [
    "#Create another column 'ratio'\n",
    "df_city1['ratio']=df_city1['Trip Completed']/df_city1['Total']\n",
    "df_airport1['ratio']=df_airport1['Trip Completed']/df_airport1['Total']\n",
    "fig, (ax1, ax2) = plt.subplots(nrows=1, ncols=2, figsize=(20,10))\n",
    "plt.sca(ax1)\n",
    "plt.title(\"For City to Airport\")\n",
    "plt.ylabel(\"Trip Completed/Total Requests\")\n",
    "df_city1['ratio'].plot(ax=ax1, kind='bar')\n",
    "#plt.xticks(np.arange(0, 24, step=1))\n",
    "plt.sca(ax2)\n",
    "plt.title(\"For Airport to City\")\n",
    "plt.ylabel(\"Trip Completed/Total Requests\")\n",
    "df_airport1['ratio'].plot(ax=ax2, kind='bar')\n",
    "#plt.xticks(np.arange(0, 24, step=1))\n",
    "plt.show()"
   ]
  },
  {
   "cell_type": "markdown",
   "metadata": {},
   "source": [
    "In the plot from city to Airport, we can see that Percentage of Completed Trips is the least for the time slot Early Morning\n",
    "Whereas in the plot from Airport to City, the Percentage of Completed Trips is the least for the time interval Evening\n",
    "Let us analyse if any particular Driver is causing a problem"
   ]
  },
  {
   "cell_type": "code",
   "execution_count": 26,
   "metadata": {},
   "outputs": [
    {
     "data": {
      "image/png": "[encoded data removed]",
      "text/plain": [
       "<Figure size 1440x720 with 1 Axes>"
      ]
     },
     "metadata": {
      "needs_background": "light"
     },
     "output_type": "display_data"
    }
   ],
   "source": [
    "# Creating a scatter plot segmented on Driver Id\n",
    "fig, ax = plt.subplots(figsize=(20,10))\n",
    "df_cancel=df.loc[df.Status == 'Cancelled']\n",
    "#changing the groupby object to a dataframe\n",
    "df_c=df_cancel.groupby(['Driver id'])\n",
    "df_c=pd.DataFrame(df_c.size().reset_index(name=\"Count\"))\n",
    "plt.scatter(df_c['Driver id'], df_c['Count'])\n",
    "plt.show()"
   ]
  },
  {
   "cell_type": "markdown",
   "metadata": {},
   "source": [
    "Lets filter the data to show only the drivers with cancellations more than 8"
   ]
  },
  {
   "cell_type": "code",
   "execution_count": 27,
   "metadata": {},
   "outputs": [
    {
     "data": {
      "image/png": "[encoded data removed]",
      "text/plain": [
       "<Figure size 1080x576 with 1 Axes>"
      ]
     },
     "metadata": {
      "needs_background": "light"
     },
     "output_type": "display_data"
    }
   ],
   "source": [
    "df_c1=df_c.loc[df_c.Count >=8]\n",
    "fig, ax = plt.subplots(figsize=(15,8))\n",
    "plt.scatter(df_c1['Driver id'], df_c1['Count'])\n",
    "plt.xlabel('Driver Id')\n",
    "plt.ylabel('No of Cancellations')\n",
    "plt.yticks(np.arange(8, 13, step=1))\n",
    "for xy in zip(df_c1['Driver id'], df_c1['Count']):\n",
    "    ax.annotate('(%s, %s)' % xy, xy=xy, textcoords='data')\n",
    "plt.show()"
   ]
  },
  {
   "cell_type": "markdown",
   "metadata": {},
   "source": [
    "These are the drivers which are cancelling the requests. The Uber people can talk to these drivers for the reasons for cancellations."
   ]
  },
  {
   "cell_type": "code",
   "execution_count": 28,
   "metadata": {},
   "outputs": [
    {
     "name": "stdout",
     "output_type": "stream",
     "text": [
      "      Request id Pickup point  Driver id          Status   Request timestamp  \\\n",
      "819          422         City       84.0  Trip Completed 2016-07-11 08:42:00   \n",
      "3168         536         City       84.0       Cancelled 2016-07-11 09:59:00   \n",
      "820          578      Airport       84.0  Trip Completed 2016-07-11 11:03:00   \n",
      "3169        1134      Airport       84.0       Cancelled 2016-07-11 20:33:00   \n",
      "3170        1604         City       84.0       Cancelled 2016-07-12 06:37:00   \n",
      "3171        1653         City       84.0       Cancelled 2016-07-12 07:27:00   \n",
      "3172        1695         City       84.0       Cancelled 2016-07-12 07:57:00   \n",
      "3173        2750         City       84.0       Cancelled 2016-07-13 03:24:24   \n",
      "3174        2884         City       84.0       Cancelled 2016-07-13 05:54:44   \n",
      "821         3035         City       84.0  Trip Completed 2016-07-13 07:31:14   \n",
      "3175        3191         City       84.0       Cancelled 2016-07-13 09:32:18   \n",
      "3176        3193         City       84.0       Cancelled 2016-07-13 09:33:21   \n",
      "3177        3524         City       84.0       Cancelled 2016-07-13 17:51:15   \n",
      "822         3728      Airport       84.0  Trip Completed 2016-07-13 20:03:07   \n",
      "823         4097         City       84.0  Trip Completed 2016-07-14 03:15:23   \n",
      "3178        4294         City       84.0       Cancelled 2016-07-14 06:40:54   \n",
      "3179        4484         City       84.0       Cancelled 2016-07-14 08:55:30   \n",
      "824         5184         City       84.0  Trip Completed 2016-07-14 20:42:24   \n",
      "825         5404         City       84.0  Trip Completed 2016-07-15 01:12:58   \n",
      "826         5525      Airport       84.0  Trip Completed 2016-07-15 05:18:23   \n",
      "827         6392      Airport       84.0  Trip Completed 2016-07-15 19:24:23   \n",
      "\n",
      "          Drop timestamp  ReqHr       Timeslot TripTime  \n",
      "819  2016-07-11 09:56:00      8  Early Morning 01:14:00  \n",
      "3168                 NaT      9        Morning      NaT  \n",
      "820  2016-07-11 11:53:00     11        Morning 00:50:00  \n",
      "3169                 NaT     20        Evening      NaT  \n",
      "3170                 NaT      6  Early Morning      NaT  \n",
      "3171                 NaT      7  Early Morning      NaT  \n",
      "3172                 NaT      7  Early Morning      NaT  \n",
      "3173                 NaT      3       Midnight      NaT  \n",
      "3174                 NaT      5  Early Morning      NaT  \n",
      "821  2016-07-13 08:47:40      7  Early Morning 01:16:26  \n",
      "3175                 NaT      9        Morning      NaT  \n",
      "3176                 NaT      9        Morning      NaT  \n",
      "3177                 NaT     17        Evening      NaT  \n",
      "822  2016-07-13 21:16:50     20        Evening 01:13:43  \n",
      "823  2016-07-14 04:05:22      3       Midnight 00:49:59  \n",
      "3178                 NaT      6  Early Morning      NaT  \n",
      "3179                 NaT      8  Early Morning      NaT  \n",
      "824  2016-07-14 21:49:56     20        Evening 01:07:32  \n",
      "825  2016-07-15 02:05:26      1       Midnight 00:52:28  \n",
      "826  2016-07-15 06:36:52      5  Early Morning 01:18:29  \n",
      "827  2016-07-15 20:31:59     19        Evening 01:07:36  \n"
     ]
    }
   ],
   "source": [
    "print(df.loc[df['Driver id'] == 84].sort_values(by='Request timestamp'))"
   ]
  },
  {
   "cell_type": "markdown",
   "metadata": {},
   "source": [
    "From the above data, we can see that the driver cancelled all the requests on the 12th."
   ]
  },
  {
   "cell_type": "code",
   "execution_count": 29,
   "metadata": {},
   "outputs": [
    {
     "name": "stdout",
     "output_type": "stream",
     "text": [
      "      Request id Pickup point  Driver id          Status   Request timestamp  \\\n",
      "3032         216         City       54.0       Cancelled 2016-07-11 06:13:00   \n",
      "522          234         City       54.0  Trip Completed 2016-07-11 06:27:00   \n",
      "523          425      Airport       54.0  Trip Completed 2016-07-11 08:48:00   \n",
      "524         1528         City       54.0  Trip Completed 2016-07-12 05:58:00   \n",
      "525         1671      Airport       54.0  Trip Completed 2016-07-12 07:41:00   \n",
      "3033        1898         City       54.0       Cancelled 2016-07-12 10:27:00   \n",
      "3034        2077         City       54.0       Cancelled 2016-07-12 15:40:00   \n",
      "526         2223         City       54.0  Trip Completed 2016-07-12 18:07:00   \n",
      "3035        2486      Airport       54.0       Cancelled 2016-07-12 20:50:00   \n",
      "3036        2809         City       54.0       Cancelled 2016-07-13 05:05:12   \n",
      "3037        2900         City       54.0       Cancelled 2016-07-13 06:01:55   \n",
      "3038        3022         City       54.0       Cancelled 2016-07-13 07:34:14   \n",
      "3039        3211         City       54.0       Cancelled 2016-07-13 09:48:34   \n",
      "527         3268      Airport       54.0  Trip Completed 2016-07-13 10:27:35   \n",
      "528         3530      Airport       54.0  Trip Completed 2016-07-13 17:53:27   \n",
      "3040        4356         City       54.0       Cancelled 2016-07-14 07:23:36   \n",
      "529         4765      Airport       54.0  Trip Completed 2016-07-14 15:36:30   \n",
      "3041        6208         City       54.0       Cancelled 2016-07-15 17:27:11   \n",
      "3042        6571         City       54.0       Cancelled 2016-07-15 21:16:46   \n",
      "\n",
      "          Drop timestamp  ReqHr       Timeslot TripTime  \n",
      "3032                 NaT      6  Early Morning      NaT  \n",
      "522  2016-07-11 07:23:00      6  Early Morning 00:56:00  \n",
      "523  2016-07-11 09:34:00      8  Early Morning 00:46:00  \n",
      "524  2016-07-12 06:33:00      5  Early Morning 00:35:00  \n",
      "525  2016-07-12 08:50:00      7  Early Morning 01:09:00  \n",
      "3033                 NaT     10        Morning      NaT  \n",
      "3034                 NaT     15      Afternoon      NaT  \n",
      "526  2016-07-12 19:12:00     18        Evening 01:05:00  \n",
      "3035                 NaT     20        Evening      NaT  \n",
      "3036                 NaT      5  Early Morning      NaT  \n",
      "3037                 NaT      6  Early Morning      NaT  \n",
      "3038                 NaT      7  Early Morning      NaT  \n",
      "3039                 NaT      9        Morning      NaT  \n",
      "527  2016-07-13 11:31:51     10        Morning 01:04:16  \n",
      "528  2016-07-13 18:43:17     17        Evening 00:49:50  \n",
      "3040                 NaT      7  Early Morning      NaT  \n",
      "529  2016-07-14 16:41:07     15      Afternoon 01:04:37  \n",
      "3041                 NaT     17        Evening      NaT  \n",
      "3042                 NaT     21          Night      NaT  \n"
     ]
    }
   ],
   "source": [
    "print(df.loc[df['Driver id'] == 54].sort_values(by='Request timestamp'))"
   ]
  },
  {
   "cell_type": "markdown",
   "metadata": {},
   "source": [
    "From the above plot and the details according to the driver id, we see that the drivers are generally cancelling the requests at odd hours and in the morning."
   ]
  },
  {
   "cell_type": "code",
   "execution_count": 30,
   "metadata": {},
   "outputs": [
    {
     "data": {
      "text/html": [
       "<div>\n",
       "<style scoped>\n",
       "    .dataframe tbody tr th:only-of-type {\n",
       "        vertical-align: middle;\n",
       "    }\n",
       "\n",
       "    .dataframe tbody tr th {\n",
       "        vertical-align: top;\n",
       "    }\n",
       "\n",
       "    .dataframe thead th {\n",
       "        text-align: right;\n",
       "    }\n",
       "</style>\n",
       "<table border=\"1\" class=\"dataframe\">\n",
       "  <thead>\n",
       "    <tr style=\"text-align: right;\">\n",
       "      <th>Status</th>\n",
       "      <th>Cancelled</th>\n",
       "      <th>No Cars Available</th>\n",
       "      <th>Trip Completed</th>\n",
       "      <th>Total</th>\n",
       "      <th>ratio</th>\n",
       "      <th>Gap</th>\n",
       "    </tr>\n",
       "    <tr>\n",
       "      <th>Timeslot</th>\n",
       "      <th></th>\n",
       "      <th></th>\n",
       "      <th></th>\n",
       "      <th></th>\n",
       "      <th></th>\n",
       "      <th></th>\n",
       "    </tr>\n",
       "  </thead>\n",
       "  <tbody>\n",
       "    <tr>\n",
       "      <th>Midnight</th>\n",
       "      <td>63</td>\n",
       "      <td>151</td>\n",
       "      <td>111</td>\n",
       "      <td>325</td>\n",
       "      <td>0.341538</td>\n",
       "      <td>214</td>\n",
       "    </tr>\n",
       "    <tr>\n",
       "      <th>Early Morning</th>\n",
       "      <td>653</td>\n",
       "      <td>309</td>\n",
       "      <td>373</td>\n",
       "      <td>1335</td>\n",
       "      <td>0.279401</td>\n",
       "      <td>962</td>\n",
       "    </tr>\n",
       "    <tr>\n",
       "      <th>Morning</th>\n",
       "      <td>239</td>\n",
       "      <td>189</td>\n",
       "      <td>286</td>\n",
       "      <td>714</td>\n",
       "      <td>0.400560</td>\n",
       "      <td>428</td>\n",
       "    </tr>\n",
       "    <tr>\n",
       "      <th>Afternoon</th>\n",
       "      <td>32</td>\n",
       "      <td>134</td>\n",
       "      <td>208</td>\n",
       "      <td>374</td>\n",
       "      <td>0.556150</td>\n",
       "      <td>166</td>\n",
       "    </tr>\n",
       "    <tr>\n",
       "      <th>Evening</th>\n",
       "      <td>46</td>\n",
       "      <td>60</td>\n",
       "      <td>330</td>\n",
       "      <td>436</td>\n",
       "      <td>0.756881</td>\n",
       "      <td>106</td>\n",
       "    </tr>\n",
       "    <tr>\n",
       "      <th>Night</th>\n",
       "      <td>33</td>\n",
       "      <td>94</td>\n",
       "      <td>196</td>\n",
       "      <td>323</td>\n",
       "      <td>0.606811</td>\n",
       "      <td>127</td>\n",
       "    </tr>\n",
       "  </tbody>\n",
       "</table>\n",
       "</div>"
      ],
      "text/plain": [
       "Status         Cancelled  No Cars Available  Trip Completed  Total     ratio  \\\n",
       "Timeslot                                                                       \n",
       "Midnight              63                151             111    325  0.341538   \n",
       "Early Morning        653                309             373   1335  0.279401   \n",
       "Morning              239                189             286    714  0.400560   \n",
       "Afternoon             32                134             208    374  0.556150   \n",
       "Evening               46                 60             330    436  0.756881   \n",
       "Night                 33                 94             196    323  0.606811   \n",
       "\n",
       "Status         Gap  \n",
       "Timeslot            \n",
       "Midnight       214  \n",
       "Early Morning  962  \n",
       "Morning        428  \n",
       "Afternoon      166  \n",
       "Evening        106  \n",
       "Night          127  "
      ]
     },
     "execution_count": 30,
     "metadata": {},
     "output_type": "execute_result"
    }
   ],
   "source": [
    "#Add another column 'Gap' to find the gap in demand and supply\n",
    "df_city1['Gap']=df_city1['Total'] - df_city1['Trip Completed']\n",
    "df_city1.head(10)"
   ]
  },
  {
   "cell_type": "code",
   "execution_count": 31,
   "metadata": {},
   "outputs": [
    {
     "data": {
      "text/html": [
       "<div>\n",
       "<style scoped>\n",
       "    .dataframe tbody tr th:only-of-type {\n",
       "        vertical-align: middle;\n",
       "    }\n",
       "\n",
       "    .dataframe tbody tr th {\n",
       "        vertical-align: top;\n",
       "    }\n",
       "\n",
       "    .dataframe thead th {\n",
       "        text-align: right;\n",
       "    }\n",
       "</style>\n",
       "<table border=\"1\" class=\"dataframe\">\n",
       "  <thead>\n",
       "    <tr style=\"text-align: right;\">\n",
       "      <th>Status</th>\n",
       "      <th>Cancelled</th>\n",
       "      <th>No Cars Available</th>\n",
       "      <th>Trip Completed</th>\n",
       "      <th>Total</th>\n",
       "      <th>ratio</th>\n",
       "      <th>Gap</th>\n",
       "    </tr>\n",
       "    <tr>\n",
       "      <th>Timeslot</th>\n",
       "      <th></th>\n",
       "      <th></th>\n",
       "      <th></th>\n",
       "      <th></th>\n",
       "      <th></th>\n",
       "      <th></th>\n",
       "    </tr>\n",
       "  </thead>\n",
       "  <tbody>\n",
       "    <tr>\n",
       "      <th>Midnight</th>\n",
       "      <td>2</td>\n",
       "      <td>148</td>\n",
       "      <td>103</td>\n",
       "      <td>253</td>\n",
       "      <td>0.407115</td>\n",
       "      <td>150</td>\n",
       "    </tr>\n",
       "    <tr>\n",
       "      <th>Early Morning</th>\n",
       "      <td>15</td>\n",
       "      <td>14</td>\n",
       "      <td>308</td>\n",
       "      <td>337</td>\n",
       "      <td>0.913947</td>\n",
       "      <td>29</td>\n",
       "    </tr>\n",
       "    <tr>\n",
       "      <th>Morning</th>\n",
       "      <td>32</td>\n",
       "      <td>44</td>\n",
       "      <td>239</td>\n",
       "      <td>315</td>\n",
       "      <td>0.758730</td>\n",
       "      <td>76</td>\n",
       "    </tr>\n",
       "    <tr>\n",
       "      <th>Afternoon</th>\n",
       "      <td>40</td>\n",
       "      <td>50</td>\n",
       "      <td>162</td>\n",
       "      <td>252</td>\n",
       "      <td>0.642857</td>\n",
       "      <td>90</td>\n",
       "    </tr>\n",
       "    <tr>\n",
       "      <th>Evening</th>\n",
       "      <td>78</td>\n",
       "      <td>1067</td>\n",
       "      <td>312</td>\n",
       "      <td>1457</td>\n",
       "      <td>0.214139</td>\n",
       "      <td>1145</td>\n",
       "    </tr>\n",
       "    <tr>\n",
       "      <th>Night</th>\n",
       "      <td>31</td>\n",
       "      <td>390</td>\n",
       "      <td>203</td>\n",
       "      <td>624</td>\n",
       "      <td>0.325321</td>\n",
       "      <td>421</td>\n",
       "    </tr>\n",
       "  </tbody>\n",
       "</table>\n",
       "</div>"
      ],
      "text/plain": [
       "Status         Cancelled  No Cars Available  Trip Completed  Total     ratio  \\\n",
       "Timeslot                                                                       \n",
       "Midnight               2                148             103    253  0.407115   \n",
       "Early Morning         15                 14             308    337  0.913947   \n",
       "Morning               32                 44             239    315  0.758730   \n",
       "Afternoon             40                 50             162    252  0.642857   \n",
       "Evening               78               1067             312   1457  0.214139   \n",
       "Night                 31                390             203    624  0.325321   \n",
       "\n",
       "Status          Gap  \n",
       "Timeslot             \n",
       "Midnight        150  \n",
       "Early Morning    29  \n",
       "Morning          76  \n",
       "Afternoon        90  \n",
       "Evening        1145  \n",
       "Night           421  "
      ]
     },
     "execution_count": 31,
     "metadata": {},
     "output_type": "execute_result"
    }
   ],
   "source": [
    "df_airport1['Gap']=df_airport1['Total'] - df_airport1['Trip Completed']\n",
    "df_airport1.head(10)"
   ]
  },
  {
   "cell_type": "markdown",
   "metadata": {},
   "source": [
    "Plot the bar chart for the Gap in Demand and Supply for each Status."
   ]
  },
  {
   "cell_type": "code",
   "execution_count": 32,
   "metadata": {},
   "outputs": [
    {
     "data": {
      "image/png": "[encoded data removed]",
      "text/plain": [
       "<Figure size 1440x720 with 2 Axes>"
      ]
     },
     "metadata": {
      "needs_background": "light"
     },
     "output_type": "display_data"
    }
   ],
   "source": [
    "fig, (ax1, ax2) = plt.subplots(nrows=1, ncols=2, figsize=(20,10))\n",
    "plt.sca(ax1)\n",
    "plt.title(\"For City to Airport\")\n",
    "plt.ylabel(\"Gap between demand and supply\")\n",
    "df_city1['Gap'].plot(ax=ax1,kind='bar')\n",
    "#plt.xticks(np.arange(0, 24, step=1))\n",
    "plt.sca(ax2)\n",
    "plt.title(\"For Airport to city\")\n",
    "plt.ylabel(\"Gap between demand and supply\")\n",
    "df_airport1['Gap'].plot(ax=ax2,kind='bar')\n",
    "#plt.xticks(np.arange(0, 24, step=1))\n",
    "plt.show()"
   ]
  },
  {
   "cell_type": "markdown",
   "metadata": {},
   "source": [
    "The highest gap is in Early Morning from city to Airport and in the Evening from Airport to City.\n",
    "Export the dataframes for visualising in Tableau."
   ]
  },
  {
   "cell_type": "code",
   "execution_count": 33,
   "metadata": {},
   "outputs": [],
   "source": [
    "df_city1.to_csv(\"city.csv\")\n",
    "df_airport1.to_csv(\"airport.csv\")"
   ]
  }
 ],
 "metadata": {
  "kernelspec": {
   "display_name": "Python 3",
   "language": "python",
   "name": "python3"
  },
  "language_info": {
   "codemirror_mode": {
    "name": "ipython",
    "version": 3
   },
   "file_extension": ".py",
   "mimetype": "text/x-python",
   "name": "python",
   "nbconvert_exporter": "python",
   "pygments_lexer": "ipython3",
   "version": "3.7.0"
  }
 },
 "nbformat": 4,
 "nbformat_minor": 2
}
